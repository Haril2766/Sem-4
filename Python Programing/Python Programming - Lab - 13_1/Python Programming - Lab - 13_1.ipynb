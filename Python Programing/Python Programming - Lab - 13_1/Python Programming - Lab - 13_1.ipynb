{
 "cells": [
  {
   "cell_type": "markdown",
   "metadata": {},
   "source": [
    "<a href='https://www.darshan.ac.in/'> <img src='https://www.darshan.ac.in/Content/media/DU_Logo.svg' width=\"250\" height=\"300\"/></a>\n",
    "<pre>\n",
    "<center><b><h1>Python Programming - 2301CS404</b></center>\n",
    "<center><b><h1>Lab - 13</b></center>    \n",
    "    <center><b><h1>Haril Parmar - 4A -258 </b></center>\n",
    "<center><b><h1>23010101188</b></center> \n",
    "    \n",
    "<pre>"
   ]
  },
  {
   "cell_type": "markdown",
   "metadata": {},
   "source": [
    "# OOP"
   ]
  },
  {
   "cell_type": "markdown",
   "metadata": {},
   "source": [
    "### 01) Write a Program to create a class by name Students, and initialize attributes like name, age, and grade while creating an object."
   ]
  },
  {
   "cell_type": "code",
   "execution_count": 7,
   "metadata": {},
   "outputs": [
    {
     "name": "stdout",
     "output_type": "stream",
     "text": [
      "VadaPaw 15 F--\n"
     ]
    }
   ],
   "source": [
    "class Student():\n",
    "    def __init__(self,Name,Age,Grade) :\n",
    "        self.Name = Name\n",
    "        self.Age = Age\n",
    "        self.Grade = Grade\n",
    "S1 = Student(\"VadaPaw\",15,\"F--\")\n",
    "print(S1.Name , S1.Age , S1.Grade)        "
   ]
  },
  {
   "cell_type": "markdown",
   "metadata": {},
   "source": [
    "### 02) Create a class named Bank_Account with Account_No, User_Name, Email,Account_Type and Account_Balance data members. Also create a method GetAccountDetails() and DisplayAccountDetails(). Create main method to demonstrate the Bank_Account class."
   ]
  },
  {
   "cell_type": "code",
   "execution_count": 19,
   "metadata": {},
   "outputs": [
    {
     "name": "stdout",
     "output_type": "stream",
     "text": [
      "Account Number: 696969\n",
      "User Name: Dabeli\n",
      "Email: Dabeli@gmail.com\n",
      "Account Type: current\n",
      "Account Balance: 99999999\n",
      "---------------------------------------\n"
     ]
    },
    {
     "name": "stdin",
     "output_type": "stream",
     "text": [
      "Enter Account Number:  69\n",
      "Enter User Name:  Haril\n",
      "Enter Email:  hp@gmail\n",
      "Enter Account Type:  savings\n",
      "Enter Account Balance:  9999999999999\n"
     ]
    }
   ],
   "source": [
    "class Bank_Account:\n",
    "    def __init__(self, account_no, user_name, email, account_type, account_balance):\n",
    "        self.Account_No = account_no\n",
    "        self.User_Name = user_name\n",
    "        self.Email = email\n",
    "        self.Account_Type = account_type\n",
    "        self.Account_Balance = account_balance\n",
    "    \n",
    "    def GetAccountDetails(self):\n",
    "        self.Account_No = input(\"Enter Account Number: \")\n",
    "        self.User_Name = input(\"Enter User Name: \")\n",
    "        self.Email = input(\"Enter Email: \")\n",
    "        self.Account_Type = input(\"Enter Account Type: \")\n",
    "        self.Account_Balance = float(input(\"Enter Account Balance: \"))    \n",
    "    \n",
    "    def DisplayAccountDetails(self):\n",
    "        print(\"Account Number:\", self.Account_No)\n",
    "        print(\"User Name:\", self.User_Name)\n",
    "        print(\"Email:\", self.Email)\n",
    "        print(\"Account Type:\", self.Account_Type)\n",
    "        print(\"Account Balance:\", self.Account_Balance)\n",
    "\n",
    "b1 = Bank_Account(696969,\"Dabeli\",\"Dabeli@gmail.com\",\"current\",99999999)\n",
    "b1.DisplayAccountDetails()\n",
    "print(\"---------------------------------------\")\n",
    "b1.GetAccountDetails()"
   ]
  },
  {
   "cell_type": "markdown",
   "metadata": {},
   "source": [
    "### 03) WAP to create Circle class with area and perimeter function to find area and perimeter of circle."
   ]
  },
  {
   "cell_type": "code",
   "execution_count": 28,
   "metadata": {},
   "outputs": [
    {
     "name": "stdout",
     "output_type": "stream",
     "text": [
      "Area of circle is : 12.566370614359172 and Perimeter of circle is 12.566370614359172\n"
     ]
    }
   ],
   "source": [
    "import math\n",
    "\n",
    "class Circle():\n",
    "    def __init__(self,radius) :\n",
    "        self.radius = radius\n",
    "    def AreaOfCircle(self):\n",
    "        return math.pi*self.radius*self.radius\n",
    "    def PerimeterOfCircle(self) :\n",
    "        return 2*math.pi*self.radius\n",
    "c1 = Circle(int(input(\"Enter Radius : \")))\n",
    "print(f\"Area of Circle is {c1.AreaOfCircle()}\")\n",
    "print(f\"perimeter of Circle is {c1.PerimeterOfCircle()}\")"
   ]
  },
  {
   "cell_type": "markdown",
   "metadata": {},
   "source": [
    "### 04) Create a class for employees that includes attributes such as name, age, salary, and methods to update and display employee information."
   ]
  },
  {
   "cell_type": "code",
   "execution_count": 27,
   "metadata": {},
   "outputs": [
    {
     "name": "stdout",
     "output_type": "stream",
     "text": [
      "Employee Details:\n",
      "Name: Harshil\n",
      "Age: 28\n",
      "Salary: 70000\n",
      " \n",
      "Employee Details:\n",
      "Name: Butlegar\n",
      "Age: 28\n",
      "Salary: 85000\n"
     ]
    }
   ],
   "source": [
    "    class Employee:\n",
    "        def __init__(self, name, age, salary):\n",
    "            self.name = name\n",
    "            self.age = age\n",
    "            self.salary = salary\n",
    "        \n",
    "        def update_employee(self, name=None, age=None, salary=None):\n",
    "            if name:\n",
    "                self.name = name\n",
    "            if age:\n",
    "                self.age = age\n",
    "            if salary:\n",
    "                self.salary = salary\n",
    "        \n",
    "        def display_employee(self):\n",
    "            print(\"Employee Details:\")\n",
    "            print(\"Name:\", self.name)\n",
    "            print(\"Age:\", self.age)\n",
    "            print(\"Salary:\", self.salary)\n",
    "    emp = Employee(\"Harshil\", 28, 70000)\n",
    "    emp.display_employee()\n",
    "    print(\" \")\n",
    "    emp.update_employee(name=\"Butlegar\", salary=85000)\n",
    "    emp.display_employee()"
   ]
  },
  {
   "cell_type": "markdown",
   "metadata": {},
   "source": [
    "### 05) Create a bank account class with methods to deposit, withdraw, and check balance."
   ]
  },
  {
   "cell_type": "code",
   "execution_count": null,
   "metadata": {},
   "outputs": [],
   "source": []
  },
  {
   "cell_type": "markdown",
   "metadata": {},
   "source": [
    "### 06) Create a class for managing inventory that includes attributes such as item name, price, quantity, and methods to add, remove, and update items."
   ]
  },
  {
   "cell_type": "code",
   "execution_count": null,
   "metadata": {},
   "outputs": [],
   "source": []
  },
  {
   "cell_type": "markdown",
   "metadata": {},
   "source": [
    "### 07) Create a Class with instance attributes of your choice."
   ]
  },
  {
   "cell_type": "code",
   "execution_count": null,
   "metadata": {},
   "outputs": [],
   "source": []
  },
  {
   "cell_type": "markdown",
   "metadata": {},
   "source": [
    "### 08) Create one class student_kit\n",
    "#### Within the student_kit class create one class attribute principal name ( Mr ABC )\n",
    "#### Create one attendance method and take input as number of days.\n",
    "#### While creating student take input their name .\n",
    "#### Create one certificate for each student by taking input of number of days present in class."
   ]
  },
  {
   "cell_type": "code",
   "execution_count": null,
   "metadata": {},
   "outputs": [],
   "source": []
  },
  {
   "cell_type": "markdown",
   "metadata": {},
   "source": [
    "### 09) Define Time class with hour and minute as data member. Also define addition method to add two time objects."
   ]
  },
  {
   "cell_type": "code",
   "execution_count": null,
   "metadata": {},
   "outputs": [],
   "source": []
  }
 ],
 "metadata": {
  "kernelspec": {
   "display_name": "Python 3 (ipykernel)",
   "language": "python",
   "name": "python3"
  },
  "language_info": {
   "codemirror_mode": {
    "name": "ipython",
    "version": 3
   },
   "file_extension": ".py",
   "mimetype": "text/x-python",
   "name": "python",
   "nbconvert_exporter": "python",
   "pygments_lexer": "ipython3",
   "version": "3.12.7"
  }
 },
 "nbformat": 4,
 "nbformat_minor": 4
}
